{
 "cells": [
  {
   "cell_type": "markdown",
   "id": "f03e55fb",
   "metadata": {},
   "source": [
    "Hyperlink:<br>\n",
    "Code:\n",
    "```\n",
    "create the destination:\n",
    "<a id = \"dest_name\"></a> \n",
    "\n",
    "create hyperlink to the destination\n",
    "[name](#dest_name)\n",
    "```\n",
    "Outcome:\n",
    "<a id = \"dest_name\"></a> \n",
    "[name](#dest_name)"
   ]
  },
  {
   "cell_type": "markdown",
   "id": "dd63cb94",
   "metadata": {},
   "source": [
    "Embedding Code:<br>\n",
    "Code:\n",
    "```\n",
    "Method 1:\n",
    "```Python\n",
    "print('Hello Word!')\n",
    "\\``` (omit \\)\n",
    "\n",
    "Method 2:\n",
    "<code>Python\n",
    "print('Hello Word!')\n",
    "</code>\n",
    "\n",
    "```\n",
    "Outcomes:<br>\n",
    "Method 1:\n",
    "```Python\n",
    "print('Hello Word!')\n",
    "```\n",
    "\n",
    "Method 2:<br>\n",
    "<code>Python\n",
    "print('Hello Word!')\n",
    "</code>\n"
   ]
  },
  {
   "cell_type": "markdown",
   "id": "85117d11",
   "metadata": {},
   "source": [
    "Emdedding videos and images:<br>\n",
    "Code:\n",
    "```\n",
    "<video controls src=\"link\" width=\"65%\" position='left'>animation</video>\n",
    "\n",
    "<img src=\"link\" width=\"50%\">\n",
    "```"
   ]
  },
  {
   "cell_type": "markdown",
   "id": "b69c00af",
   "metadata": {},
   "source": [
    "Add clickbox<p>\n",
    "```\n",
    "- [x] done\n",
    "- [ ] to be done \n",
    "```\n",
    "Outcomes:<p>\n",
    "- [x] done\n",
    "- [ ] to be done    "
   ]
  },
  {
   "cell_type": "markdown",
   "id": "75a8affc",
   "metadata": {},
   "source": [
    "Change text style<p>\n",
    "**<font color = red>红色+加粗</font>**<p>\n",
    "*<font color = blue>蓝色+斜体</font>*<p>\n",
    "_<font color = blue>蓝色+斜体</font>_<p>\n",
    "***<font color=green>绿色+加粗+斜体</font>***<p>\n",
    "_**<font color=green>绿色+加粗+斜体</font>**_<p>\n",
    "___<font color=green>绿色+加粗+斜体</font>___<p>\n",
    "<font color=steel size=5 face=雅黑>5号雅黑</font><p>\n",
    "<mark>黄色高亮<mark><p>\n",
    "<mark style=background-color:red>改变高亮颜色</mark> <p>\n",
    "<mark><font color=red size=4 face=雅黑>叠加字体的变化<font><mark> <p>\n",
    "\n",
    "\n",
    "\n",
    "\n",
    "\n"
   ]
  },
  {
   "cell_type": "markdown",
   "id": "1c8060bf",
   "metadata": {},
   "source": [
    "Regex\n",
    "https://blog.csdn.net/weixin_34348174/article/details/92170067"
   ]
  }
 ],
 "metadata": {
  "kernelspec": {
   "display_name": "Python 3 (ipykernel)",
   "language": "python",
   "name": "python3"
  },
  "language_info": {
   "codemirror_mode": {
    "name": "ipython",
    "version": 3
   },
   "file_extension": ".py",
   "mimetype": "text/x-python",
   "name": "python",
   "nbconvert_exporter": "python",
   "pygments_lexer": "ipython3",
   "version": "3.8.12"
  },
  "toc": {
   "base_numbering": 1,
   "nav_menu": {},
   "number_sections": true,
   "sideBar": true,
   "skip_h1_title": false,
   "title_cell": "Table of Contents",
   "title_sidebar": "Contents",
   "toc_cell": false,
   "toc_position": {},
   "toc_section_display": true,
   "toc_window_display": false
  }
 },
 "nbformat": 4,
 "nbformat_minor": 5
}
